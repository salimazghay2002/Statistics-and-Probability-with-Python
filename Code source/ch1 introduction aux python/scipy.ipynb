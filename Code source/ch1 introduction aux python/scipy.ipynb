{
 "cells": [
  {
   "cell_type": "code",
   "execution_count": 1,
   "id": "d898b43f",
   "metadata": {},
   "outputs": [
    {
     "name": "stdout",
     "output_type": "stream",
     "text": [
      "Moyenne : 15.5\n",
      "Écart-type : 3.24037034920393\n"
     ]
    }
   ],
   "source": [
    "# importer scipy.stats \n",
    "import scipy.stats as stats\n",
    "import numpy as np\n",
    "\n",
    "# Création d'un liste des donnez\n",
    "data = np.array([10, 15, 12, 18, 20, 14, 16, 19])\n",
    "\n",
    "# Calculer la moyenne et l'ecart-typ\n",
    "mean = data.mean()\n",
    "std_dev = data.std()\n",
    "\n",
    "print(\"Moyenne :\", mean)\n",
    "print(\"Écart-type :\", std_dev)"
   ]
  },
  {
   "cell_type": "code",
   "execution_count": null,
   "id": "156a5e33",
   "metadata": {},
   "outputs": [],
   "source": []
  }
 ],
 "metadata": {
  "kernelspec": {
   "display_name": "Python 3 (ipykernel)",
   "language": "python",
   "name": "python3"
  },
  "language_info": {
   "codemirror_mode": {
    "name": "ipython",
    "version": 3
   },
   "file_extension": ".py",
   "mimetype": "text/x-python",
   "name": "python",
   "nbconvert_exporter": "python",
   "pygments_lexer": "ipython3",
   "version": "3.10.9"
  }
 },
 "nbformat": 4,
 "nbformat_minor": 5
}
