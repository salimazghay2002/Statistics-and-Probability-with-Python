{
 "cells": [
  {
   "cell_type": "code",
   "execution_count": 1,
   "id": "7537a35e",
   "metadata": {},
   "outputs": [
    {
     "name": "stdout",
     "output_type": "stream",
     "text": [
      "3 à la puissance 2 est :  9.0\n"
     ]
    }
   ],
   "source": [
    "# importe La bibliothèque math\n",
    "import math as m\n",
    "# calculer 3 à la puissance 2\n",
    "p = m.pow(3, 2)\n",
    "print(\"3 à la puissance 2 est : \",p)"
   ]
  },
  {
   "cell_type": "code",
   "execution_count": 2,
   "id": "d0945652",
   "metadata": {},
   "outputs": [
    {
     "name": "stdout",
     "output_type": "stream",
     "text": [
      "plus grande valeur entière inférieure ou égale à 3.2 est :  3\n"
     ]
    }
   ],
   "source": [
    "# plus grande valeur entière inférieure ou égale à 3.2\n",
    "print(\"plus grande valeur entière inférieure ou égale à 3.2 est : \", m.floor(3.2))"
   ]
  },
  {
   "cell_type": "code",
   "execution_count": 3,
   "id": "e934d2ae",
   "metadata": {},
   "outputs": [
    {
     "name": "stdout",
     "output_type": "stream",
     "text": [
      "plus grande valeur entière supérieur ou égale à 3.2 est :  4\n"
     ]
    }
   ],
   "source": [
    "# plus grande valeur entière supérieur ou égale à 3.2\n",
    "print(\"plus grande valeur entière supérieur ou égale à 3.2 est : \", m.ceil(3.2))"
   ]
  }
 ],
 "metadata": {
  "kernelspec": {
   "display_name": "Python 3 (ipykernel)",
   "language": "python",
   "name": "python3"
  },
  "language_info": {
   "codemirror_mode": {
    "name": "ipython",
    "version": 3
   },
   "file_extension": ".py",
   "mimetype": "text/x-python",
   "name": "python",
   "nbconvert_exporter": "python",
   "pygments_lexer": "ipython3",
   "version": "3.10.9"
  }
 },
 "nbformat": 4,
 "nbformat_minor": 5
}
