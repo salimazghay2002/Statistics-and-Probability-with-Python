{
 "cells": [
  {
   "cell_type": "code",
   "execution_count": 1,
   "id": "6ddc2a58",
   "metadata": {},
   "outputs": [],
   "source": [
    "nom = \"AZGHAY AND BOULKJAR\"\n",
    "age = 21\n",
    "poids = 75.5\n",
    "valider = True"
   ]
  },
  {
   "cell_type": "code",
   "execution_count": 2,
   "id": "157b023a",
   "metadata": {},
   "outputs": [
    {
     "name": "stdout",
     "output_type": "stream",
     "text": [
      "False\n"
     ]
    }
   ],
   "source": [
    "# structure conditionnelle\n",
    "if 4 > 5:\n",
    "    print(\"True\")\n",
    "else:\n",
    "    print(\"False\")"
   ]
  },
  {
   "cell_type": "code",
   "execution_count": 3,
   "id": "48173a33",
   "metadata": {},
   "outputs": [
    {
     "name": "stdout",
     "output_type": "stream",
     "text": [
      "CSS\n"
     ]
    }
   ],
   "source": [
    "if 4 > 5:\n",
    "    print(\"PHP\")\n",
    "elif 4 < 5:\n",
    "    print(\"CSS\")\n",
    "else:\n",
    "    print(\"JAVA\")"
   ]
  },
  {
   "cell_type": "code",
   "execution_count": 4,
   "id": "5c404302",
   "metadata": {},
   "outputs": [
    {
     "name": "stdout",
     "output_type": "stream",
     "text": [
      "0 1 2 3 4 "
     ]
    }
   ],
   "source": [
    "#Les boucles\n",
    "j = 0\n",
    "while j < 5:\n",
    "    print(j,end=' ')\n",
    "    j += 1"
   ]
  },
  {
   "cell_type": "code",
   "execution_count": 5,
   "id": "4fd18703",
   "metadata": {},
   "outputs": [
    {
     "name": "stdout",
     "output_type": "stream",
     "text": [
      "0 1 2 3 4 "
     ]
    }
   ],
   "source": [
    "for i in range(5):\n",
    "    print(i, end=' ')"
   ]
  },
  {
   "cell_type": "code",
   "execution_count": 6,
   "id": "d5470411",
   "metadata": {},
   "outputs": [],
   "source": [
    "# Créer la liste\n",
    "nom_liste = [1, 2, 3, 4] # Créer une liste initialiser\n",
    "nom_liste2 = [] # Créer une liste vide"
   ]
  },
  {
   "cell_type": "code",
   "execution_count": 7,
   "id": "5b88119b",
   "metadata": {},
   "outputs": [
    {
     "name": "stdout",
     "output_type": "stream",
     "text": [
      "[1, 2, 3, 4]\n",
      "1\n",
      "4\n"
     ]
    }
   ],
   "source": [
    "# Accéder aux éléments de la liste\n",
    "print(nom_liste) # Accéder toute les éléments de la liste\n",
    "print(nom_liste[0])  # Accéder aux éléments de l'inndex 0\n",
    "print(nom_liste[-1]) # Accéder aux dernier éléments de la liste"
   ]
  },
  {
   "cell_type": "code",
   "execution_count": 8,
   "id": "87b3e37a",
   "metadata": {},
   "outputs": [
    {
     "name": "stdout",
     "output_type": "stream",
     "text": [
      "[5, 2, 3, 4]\n"
     ]
    }
   ],
   "source": [
    "# Modifier les éléments de la liste\n",
    "nom_liste[0] = 5 # modifies l’élément de l’index 0\n",
    "print(nom_liste) "
   ]
  },
  {
   "cell_type": "code",
   "execution_count": 9,
   "id": "089f99f5",
   "metadata": {},
   "outputs": [
    {
     "name": "stdout",
     "output_type": "stream",
     "text": [
      "[5, 2, 3, 4, 11]\n"
     ]
    }
   ],
   "source": [
    "# Ajouter des éléments à la liste\n",
    "nom_liste.append(11)\n",
    "print(nom_liste)"
   ]
  },
  {
   "cell_type": "code",
   "execution_count": 10,
   "id": "8dc8cb9f",
   "metadata": {},
   "outputs": [
    {
     "name": "stdout",
     "output_type": "stream",
     "text": [
      "[1, 5, 2, 11, 3, 4, 11]\n"
     ]
    }
   ],
   "source": [
    " # ajouter au millier de la liste\n",
    "nom_liste.insert(2,11)\n",
    "\n",
    "# ajouter au début de la liste\n",
    "nom_liste.insert(0,1) \n",
    "\n",
    "print(nom_liste) "
   ]
  },
  {
   "cell_type": "code",
   "execution_count": 11,
   "id": "fc08f2a3",
   "metadata": {},
   "outputs": [
    {
     "name": "stdout",
     "output_type": "stream",
     "text": [
      "[1, 5, 11, 3, 4]\n",
      "11\n"
     ]
    }
   ],
   "source": [
    "# Supprimer des éléments de la liste\n",
    "nom_liste.remove(2) # supprime l'élément égale 2\n",
    "ele = nom_liste.pop() # supprime et retourne le dernier élément\n",
    "print(nom_liste) \n",
    "print(ele) "
   ]
  },
  {
   "cell_type": "code",
   "execution_count": 12,
   "id": "dc521608",
   "metadata": {},
   "outputs": [],
   "source": [
    "dictionnaire = {} # Crée un dictionnaire vide\n",
    "dictionnaire = {'Coleur':'rouge','banane':6} # Crée un dictionnaire avec des clés et des valeurs initiales"
   ]
  },
  {
   "cell_type": "code",
   "execution_count": 13,
   "id": "9e87c8cf",
   "metadata": {},
   "outputs": [
    {
     "name": "stdout",
     "output_type": "stream",
     "text": [
      "rouge\n"
     ]
    }
   ],
   "source": [
    "# Accès aux éléments d'un dictionnaire :\n",
    "print(dictionnaire['Coleur']) # Affiche la valeur associée à 'Coleur'"
   ]
  },
  {
   "cell_type": "code",
   "execution_count": 14,
   "id": "34450d29",
   "metadata": {},
   "outputs": [],
   "source": [
    "# Modification d'un élément d'un dictionnaire :\n",
    "dictionnaire['banane'] = 3 # Modifie la valeur associée à 'banane' "
   ]
  },
  {
   "cell_type": "code",
   "execution_count": 15,
   "id": "5238f3a1",
   "metadata": {},
   "outputs": [],
   "source": [
    "# Ajout d'un nouvel élément à un dictionnaire :\n",
    "dictionnaire['GenreGenre'] = 'Homme' # Ajoute un nouvel élément au dictionnaire"
   ]
  },
  {
   "cell_type": "code",
   "execution_count": 16,
   "id": "879fe290",
   "metadata": {},
   "outputs": [],
   "source": [
    "# Suppression d'un élément d'un dictionnaire :\n",
    "del dictionnaire['banane'] # Supprime l'élément avec la clé 'banane' "
   ]
  },
  {
   "cell_type": "code",
   "execution_count": 17,
   "id": "4fec2a32",
   "metadata": {},
   "outputs": [
    {
     "name": "stdout",
     "output_type": "stream",
     "text": [
      "Coleur rouge\n",
      "GenreGenre Homme\n"
     ]
    }
   ],
   "source": [
    "# Parcours des éléments d'un dictionnaire :\n",
    "for clé, valeur in dictionnaire.items(): print(clé, valeur) # Affiche chaque clé et valeur du dictionnaire "
   ]
  },
  {
   "cell_type": "code",
   "execution_count": 18,
   "id": "3bef0bcd",
   "metadata": {},
   "outputs": [],
   "source": [
    "# Vérification de l'existence d'une clé dans un dictionnaire :\n",
    "if 'Genre' in dictionnaire: print('La clé existe dans le dictionnaire')"
   ]
  },
  {
   "cell_type": "code",
   "execution_count": 19,
   "id": "79b0db91",
   "metadata": {},
   "outputs": [],
   "source": [
    "# Obtenir la liste des clés ou des valeurs d'un dictionnaire\n",
    "clés = dictionnaire.keys() # Renvoie un objet contenant toutes les clés \n",
    "valeurs = dictionnaire.values() # Renvoie un objet contenant toutes les valeurs "
   ]
  },
  {
   "cell_type": "code",
   "execution_count": 20,
   "id": "0a186a76",
   "metadata": {},
   "outputs": [
    {
     "data": {
      "text/plain": [
       "dict_values(['rouge', 'Homme'])"
      ]
     },
     "execution_count": 20,
     "metadata": {},
     "output_type": "execute_result"
    }
   ],
   "source": [
    "valeurs"
   ]
  },
  {
   "cell_type": "code",
   "execution_count": 21,
   "id": "e7cee02b",
   "metadata": {},
   "outputs": [
    {
     "data": {
      "text/plain": [
       "dict_keys(['Coleur', 'GenreGenre'])"
      ]
     },
     "execution_count": 21,
     "metadata": {},
     "output_type": "execute_result"
    }
   ],
   "source": [
    "clés"
   ]
  },
  {
   "cell_type": "code",
   "execution_count": 22,
   "id": "0caf90c2",
   "metadata": {},
   "outputs": [],
   "source": [
    "# Les tuples\n",
    "# Création d'un tuple\n",
    "mon_tuple = (1, 2, 3)"
   ]
  },
  {
   "cell_type": "code",
   "execution_count": 23,
   "id": "dfe94e3a",
   "metadata": {},
   "outputs": [
    {
     "name": "stdout",
     "output_type": "stream",
     "text": [
      "1\n",
      "2\n",
      "3\n"
     ]
    }
   ],
   "source": [
    "# Accès aux éléments d'un tuple\n",
    "print(mon_tuple[0])  \n",
    "print(mon_tuple[1])  \n",
    "print(mon_tuple[2])  "
   ]
  },
  {
   "cell_type": "code",
   "execution_count": 24,
   "id": "3fb399ee",
   "metadata": {},
   "outputs": [
    {
     "name": "stdout",
     "output_type": "stream",
     "text": [
      "3\n"
     ]
    }
   ],
   "source": [
    "# Longueur d'un tuple \n",
    "print(len(mon_tuple))"
   ]
  },
  {
   "cell_type": "code",
   "execution_count": 25,
   "id": "e8deb3f0",
   "metadata": {},
   "outputs": [
    {
     "name": "stdout",
     "output_type": "stream",
     "text": [
      "1\n",
      "2\n",
      "3\n"
     ]
    }
   ],
   "source": [
    "# Parcours des éléments d'un tuple avec une boucle \n",
    "for element in mon_tuple:\n",
    "    print(element)"
   ]
  },
  {
   "cell_type": "code",
   "execution_count": 26,
   "id": "9daad772",
   "metadata": {},
   "outputs": [
    {
     "name": "stdout",
     "output_type": "stream",
     "text": [
      "(1, 2, 3, 4)\n"
     ]
    }
   ],
   "source": [
    "# Concaténation de tuples \n",
    "tuple1 = (1, 2)\n",
    "tuple2 = (3, 4)\n",
    "nouveau_tuple = tuple1 + tuple2\n",
    "print(nouveau_tuple) "
   ]
  },
  {
   "cell_type": "code",
   "execution_count": 27,
   "id": "89d5ba9e",
   "metadata": {},
   "outputs": [
    {
     "name": "stdout",
     "output_type": "stream",
     "text": [
      "a\n",
      "b\n",
      "c\n"
     ]
    }
   ],
   "source": [
    "# Déballage de tuples \n",
    "tuple3 = (\"a\", \"b\", \"c\")\n",
    "x, y, z = tuple3\n",
    "print(x) \n",
    "print(y)  \n",
    "print(z)  "
   ]
  },
  {
   "cell_type": "code",
   "execution_count": 28,
   "id": "a5866511",
   "metadata": {},
   "outputs": [],
   "source": [
    "# Les fichiers\n",
    "ele = open(\"fichier.txt\",\"w\")\n",
    "ele.write(\"banan \\n\")\n",
    "ele.write(\"ananas \\n\")\n",
    "ele.close()"
   ]
  },
  {
   "cell_type": "code",
   "execution_count": 29,
   "id": "668bc787",
   "metadata": {},
   "outputs": [],
   "source": [
    "ele1 = open(\"fichier.txt\",\"a+\")\n",
    "ele1.write(\"pomme\")\n",
    "ele1.close()"
   ]
  },
  {
   "cell_type": "code",
   "execution_count": 30,
   "id": "5c650257",
   "metadata": {},
   "outputs": [
    {
     "name": "stdout",
     "output_type": "stream",
     "text": [
      "banan \n",
      "ananas \n",
      "pomme\n"
     ]
    }
   ],
   "source": [
    "with open(\"fichier.txt\",\"r+\") as f:\n",
    "    print(f.read())"
   ]
  },
  {
   "cell_type": "code",
   "execution_count": 31,
   "id": "64f1bef3",
   "metadata": {},
   "outputs": [
    {
     "name": "stdout",
     "output_type": "stream",
     "text": [
      "13\n"
     ]
    }
   ],
   "source": [
    "# Définition de la fonction \"addition\" avec les paramètres \"x\" et \"y\"\n",
    "def addition(x, y): \n",
    "    return x + y  # Retourne la somme de \"x\" et \"y\"\n",
    "\n",
    "# Appel de la fonction \"addition\" \n",
    "print(addition(5, 8)) "
   ]
  },
  {
   "cell_type": "code",
   "execution_count": 32,
   "id": "0252db3a",
   "metadata": {},
   "outputs": [
    {
     "name": "stdout",
     "output_type": "stream",
     "text": [
      "40\n"
     ]
    }
   ],
   "source": [
    "# Définition de la fonction \"multiplication\" avec les paramètres \"x\" et \"y\"\n",
    "def multiplication(x, y): \n",
    "    print(x*y)\n",
    "\n",
    "# Appel de la fonction \"multiplication\"\n",
    "multiplication(5, 8)"
   ]
  },
  {
   "cell_type": "code",
   "execution_count": 33,
   "id": "ed4f48da",
   "metadata": {},
   "outputs": [
    {
     "name": "stdout",
     "output_type": "stream",
     "text": [
      "entrez premier valeur : 9\n",
      "entrez deuxieme valeurs : 7\n",
      "la soustraction est :  2\n"
     ]
    }
   ],
   "source": [
    "# Définition de la fonction \"soustraction\" snas paramètres\n",
    "def soustraction(): \n",
    "    x = int(input(\"entrez premier valeur : \"))\n",
    "    y = int(input(\"entrez deuxieme valeurs : \"))\n",
    "    return x - y  # Retourne la soustraction de \"x\" et \"y\"\n",
    "\n",
    "# Appel de la fonction \"soustraction\"\n",
    "print(\"la soustraction est : \",soustraction()) "
   ]
  },
  {
   "cell_type": "code",
   "execution_count": 34,
   "id": "aeb3b6e5",
   "metadata": {},
   "outputs": [
    {
     "name": "stdout",
     "output_type": "stream",
     "text": [
      "entrez premier valeur : 14\n",
      "entrez deuxieme valeurs : 7\n",
      "la divistion est :  2.0\n"
     ]
    }
   ],
   "source": [
    "# Définition de la fonction \"divistion\" snas paramètres\n",
    "def divistion(): \n",
    "    x = int(input(\"entrez premier valeur : \"))\n",
    "    y = int(input(\"entrez deuxieme valeurs : \"))\n",
    "    print(\"la divistion est : \",x/y)\n",
    "    \n",
    "# Appel de la fonction \"divistion\"\n",
    "divistion()"
   ]
  },
  {
   "cell_type": "code",
   "execution_count": 35,
   "id": "e728b188",
   "metadata": {},
   "outputs": [],
   "source": [
    "#module\n",
    "import math"
   ]
  },
  {
   "cell_type": "code",
   "execution_count": 36,
   "id": "0458eded",
   "metadata": {},
   "outputs": [
    {
     "name": "stdout",
     "output_type": "stream",
     "text": [
      "0.479425538604203\n",
      "3.0\n"
     ]
    }
   ],
   "source": [
    "print(math.sin(0.5))\n",
    "print(math.sqrt(9))"
   ]
  },
  {
   "cell_type": "code",
   "execution_count": null,
   "id": "d8ac87c9",
   "metadata": {},
   "outputs": [],
   "source": []
  }
 ],
 "metadata": {
  "kernelspec": {
   "display_name": "Python 3 (ipykernel)",
   "language": "python",
   "name": "python3"
  },
  "language_info": {
   "codemirror_mode": {
    "name": "ipython",
    "version": 3
   },
   "file_extension": ".py",
   "mimetype": "text/x-python",
   "name": "python",
   "nbconvert_exporter": "python",
   "pygments_lexer": "ipython3",
   "version": "3.10.9"
  }
 },
 "nbformat": 4,
 "nbformat_minor": 5
}
