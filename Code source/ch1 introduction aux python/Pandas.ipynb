{
 "cells": [
  {
   "cell_type": "code",
   "execution_count": 1,
   "id": "1ea6f152",
   "metadata": {},
   "outputs": [],
   "source": [
    " import pandas as pd\n",
    "    \n",
    "#Chargement de données à partir d’un fichier CSV :\n",
    "data=pd.read_csv(\"iris.csv\")"
   ]
  },
  {
   "cell_type": "code",
   "execution_count": 2,
   "id": "7614e901",
   "metadata": {},
   "outputs": [
    {
     "name": "stdout",
     "output_type": "stream",
     "text": [
      "   sepal_length  sepal_width  petal_length  petal_width species\n",
      "0           5.1          3.5           1.4          0.2  setosa\n",
      "1           4.9          3.0           1.4          0.2  setosa\n",
      "2           4.7          3.2           1.3          0.2  setosa\n",
      "3           4.6          3.1           1.5          0.2  setosa\n",
      "4           5.0          3.6           1.4          0.2  setosa\n"
     ]
    }
   ],
   "source": [
    " #Affichage des 5 premières lignes de les donnees\n",
    "print(data.head())"
   ]
  },
  {
   "cell_type": "code",
   "execution_count": 3,
   "id": "6cd1e016",
   "metadata": {},
   "outputs": [
    {
     "name": "stdout",
     "output_type": "stream",
     "text": [
      "     petal_length    species\n",
      "0             1.4     setosa\n",
      "1             1.4     setosa\n",
      "2             1.3     setosa\n",
      "3             1.5     setosa\n",
      "4             1.4     setosa\n",
      "..            ...        ...\n",
      "145           5.2  virginica\n",
      "146           5.0  virginica\n",
      "147           5.2  virginica\n",
      "148           5.4  virginica\n",
      "149           5.1  virginica\n",
      "\n",
      "[150 rows x 2 columns]\n"
     ]
    }
   ],
   "source": [
    "#Sélection de colonnes spécifiques dans les donnees :\n",
    "colonnes_spécifiques = data[['petal_length', 'species']]\n",
    "\n",
    "print(colonnes_spécifiques)"
   ]
  },
  {
   "cell_type": "code",
   "execution_count": 4,
   "id": "c6e3a935",
   "metadata": {},
   "outputs": [],
   "source": [
    "#Filtrage de données en utilisant des conditions\n",
    "filtered = data[data['petal_length'] > 5 ]"
   ]
  },
  {
   "cell_type": "code",
   "execution_count": 5,
   "id": "45e2517c",
   "metadata": {},
   "outputs": [
    {
     "data": {
      "text/plain": [
       "<Axes: ylabel='Frequency'>"
      ]
     },
     "execution_count": 5,
     "metadata": {},
     "output_type": "execute_result"
    },
    {
     "data": {
      "image/png": "[encoded data removed]",
      "text/plain": [
       "<Figure size 640x480 with 1 Axes>"
      ]
     },
     "metadata": {},
     "output_type": "display_data"
    }
   ],
   "source": [
    "#Visualisation de données en utilisant un histogramme:\n",
    "data.plot(kind='hist')"
   ]
  },
  {
   "cell_type": "code",
   "execution_count": null,
   "id": "ecaca8ca",
   "metadata": {},
   "outputs": [],
   "source": []
  }
 ],
 "metadata": {
  "kernelspec": {
   "display_name": "Python 3 (ipykernel)",
   "language": "python",
   "name": "python3"
  },
  "language_info": {
   "codemirror_mode": {
    "name": "ipython",
    "version": 3
   },
   "file_extension": ".py",
   "mimetype": "text/x-python",
   "name": "python",
   "nbconvert_exporter": "python",
   "pygments_lexer": "ipython3",
   "version": "3.10.9"
  }
 },
 "nbformat": 4,
 "nbformat_minor": 5
}
