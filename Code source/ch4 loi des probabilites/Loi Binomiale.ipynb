{
 "cells": [
  {
   "cell_type": "code",
   "execution_count": 1,
   "id": "37dfad78",
   "metadata": {},
   "outputs": [],
   "source": [
    "# Manipulation de loi binomiale\n",
    "import numpy as np\n",
    "import matplotlib.pyplot as plt\n",
    "from scipy.stats import binom"
   ]
  },
  {
   "cell_type": "code",
   "execution_count": 2,
   "id": "f68c866a",
   "metadata": {},
   "outputs": [
    {
     "name": "stdout",
     "output_type": "stream",
     "text": [
      "La probabilité d'obtenir 5 succès est de 0.25\n",
      "L'espérance de la loi binomiale est E(X) = 5.0 et la variance est V(X) = 2.5\n"
     ]
    }
   ],
   "source": [
    "# Paramètres de la loi binomiale\n",
    "n = 10  # Nombre d'essais\n",
    "p = 0.5  # Probabilité de succès\n",
    "\n",
    "# Calcul de la probabilité d'obtenir k succès\n",
    "k = 5\n",
    "prob = binom.pmf(k=k, n=n, p=p)\n",
    "print(\"La probabilité d'obtenir {} succès est de {:.2f}\".format(k, prob))\n",
    "\n",
    "# Calcul de l'espérance et de la variance\n",
    "esperance = binom.mean(n=n, p=p)\n",
    "variance = binom.var(n=n, p=p)\n",
    "print(\"L'espérance de la loi binomiale est E(X) = {} et la variance est V(X) = {}\".format(esperance, variance))"
   ]
  },
  {
   "cell_type": "code",
   "execution_count": 3,
   "id": "a7bf2e25",
   "metadata": {},
   "outputs": [
    {
     "data": {
      "image/png": "[encoded data removed]",
      "text/plain": [
       "<Figure size 640x480 with 1 Axes>"
      ]
     },
     "metadata": {},
     "output_type": "display_data"
    }
   ],
   "source": [
    "# Tracé de la distribution de probabilité\n",
    "x = np.arange(0, n+1)\n",
    "y = binom.pmf(x, n=n, p=p)\n",
    "plt.bar(x, y)\n",
    "plt.title(\"Distribution de probabilité de la loi binomiale\")\n",
    "plt.xlabel(\"Nombre de succès\")\n",
    "plt.ylabel(\"Probabilité\")\n",
    "plt.show()"
   ]
  },
  {
   "cell_type": "code",
   "execution_count": 4,
   "id": "f3d02f4c",
   "metadata": {},
   "outputs": [],
   "source": [
    "# Simulation de loi binomiale\n",
    "import random"
   ]
  },
  {
   "cell_type": "code",
   "execution_count": 5,
   "id": "67ec05ee",
   "metadata": {},
   "outputs": [],
   "source": [
    "# simuler une variable aléatoire suivant une loi Binomiale avec n essais et une probabilité de succès = p\n",
    "def  binomiale(n,p):\n",
    "    succes = 0\n",
    "    for _ in range(n):\n",
    "        if random.random()<p:\n",
    "            succes +=1\n",
    "    return succes        "
   ]
  },
  {
   "cell_type": "code",
   "execution_count": 6,
   "id": "449cbd9e",
   "metadata": {},
   "outputs": [
    {
     "data": {
      "text/plain": [
       "12"
      ]
     },
     "execution_count": 6,
     "metadata": {},
     "output_type": "execute_result"
    }
   ],
   "source": [
    "binomiale(20,0.7)"
   ]
  },
  {
   "cell_type": "code",
   "execution_count": 7,
   "id": "1171c677",
   "metadata": {},
   "outputs": [
    {
     "data": {
      "text/plain": [
       "14"
      ]
     },
     "execution_count": 7,
     "metadata": {},
     "output_type": "execute_result"
    }
   ],
   "source": [
    "binomiale(20,0.7)"
   ]
  },
  {
   "cell_type": "code",
   "execution_count": 8,
   "id": "197a2795",
   "metadata": {},
   "outputs": [],
   "source": [
    "# nombre de simulation = n\n",
    "def simulations(n,p):\n",
    "    resultats = [] # création d'une liste vide\n",
    "    for _ in range(n):\n",
    "        resultats.append(binomiale(n,p)) # ajout des résultats de la fonction binomiale à la liste vide\n",
    "    return(resultats)  # cette fonction retourne une liste contenants les n simulations"
   ]
  },
  {
   "cell_type": "code",
   "execution_count": 9,
   "id": "3842c985",
   "metadata": {},
   "outputs": [
    {
     "data": {
      "text/plain": [
       "[14, 12, 7, 11, 6, 12, 9, 8, 10, 12, 7, 10, 8, 10, 12]"
      ]
     },
     "execution_count": 9,
     "metadata": {},
     "output_type": "execute_result"
    }
   ],
   "source": [
    "simulations(15, 0.7) # liste contenant les résultats de 15 simulations"
   ]
  },
  {
   "cell_type": "code",
   "execution_count": 10,
   "id": "71dddce9",
   "metadata": {},
   "outputs": [],
   "source": [
    "# Calcul du nombre moyen du succès après n simulations\n",
    "def moy_succes(n,p):\n",
    "    return sum(simulations(n,p))/n # le nombre moyen de succès "
   ]
  },
  {
   "cell_type": "code",
   "execution_count": 11,
   "id": "ea7780be",
   "metadata": {},
   "outputs": [
    {
     "data": {
      "text/plain": [
       "140.535"
      ]
     },
     "execution_count": 11,
     "metadata": {},
     "output_type": "execute_result"
    }
   ],
   "source": [
    "moy_succes(200,0.7) # nombre moyen du succès après 200 simulations"
   ]
  },
  {
   "cell_type": "code",
   "execution_count": 12,
   "id": "f96be127",
   "metadata": {},
   "outputs": [
    {
     "data": {
      "text/plain": [
       "1400.1505"
      ]
     },
     "execution_count": 12,
     "metadata": {},
     "output_type": "execute_result"
    }
   ],
   "source": [
    "moy_succes(2000,0.7) # nombre moyen du succès après 20000 simulations"
   ]
  },
  {
   "cell_type": "code",
   "execution_count": null,
   "id": "7562151b",
   "metadata": {},
   "outputs": [],
   "source": []
  }
 ],
 "metadata": {
  "kernelspec": {
   "display_name": "Python 3 (ipykernel)",
   "language": "python",
   "name": "python3"
  },
  "language_info": {
   "codemirror_mode": {
    "name": "ipython",
    "version": 3
   },
   "file_extension": ".py",
   "mimetype": "text/x-python",
   "name": "python",
   "nbconvert_exporter": "python",
   "pygments_lexer": "ipython3",
   "version": "3.10.9"
  }
 },
 "nbformat": 4,
 "nbformat_minor": 5
}
