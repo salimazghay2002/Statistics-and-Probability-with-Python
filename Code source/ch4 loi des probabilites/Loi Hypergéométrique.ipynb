{
 "cells": [
  {
   "cell_type": "code",
   "execution_count": 1,
   "id": "04c30e7d",
   "metadata": {},
   "outputs": [],
   "source": [
    "# Manipulation de loi Hypergéométrique\n",
    "import numpy as np\n",
    "import matplotlib.pyplot as plt\n",
    "from scipy.stats import hypergeom"
   ]
  },
  {
   "cell_type": "code",
   "execution_count": 2,
   "id": "a17abaad",
   "metadata": {},
   "outputs": [
    {
     "name": "stdout",
     "output_type": "stream",
     "text": [
      "La probabilité d'obtenir 3 succès est de 0.28\n",
      "L'espérance de la loi hypergéométrique est E(X) = 3.00 et la variance est V(X) = 1.91\n"
     ]
    }
   ],
   "source": [
    "# Paramètres de la loi hypergéométrique\n",
    "N = 100  # Taille de la population\n",
    "K = 30  # Nombre d'éléments de la population ayant une certaine caractéristique\n",
    "n = 10  # Nombre d'éléments prélevés sans remise\n",
    "\n",
    "# Calcul de la probabilité d'obtenir k succès\n",
    "k = 3\n",
    "prob = hypergeom.pmf(k=k, M=N, n=K, N=n)\n",
    "print(\"La probabilité d'obtenir {} succès est de {:.2f}\".format(k, prob))\n",
    "\n",
    "# Calcul de l'espérance et de la variance\n",
    "esperance = hypergeom.mean(M=N, n=K, N=n)\n",
    "variance = hypergeom.var(M=N, n=K, N=n)\n",
    "print(\"L'espérance de la loi hypergéométrique est E(X) = {:.2f} et la variance est V(X) = {:.2f}\".format(esperance, variance))"
   ]
  },
  {
   "cell_type": "code",
   "execution_count": 3,
   "id": "caa9a4de",
   "metadata": {},
   "outputs": [
    {
     "data": {
      "image/png": "[encoded data removed]",
      "text/plain": [
       "<Figure size 640x480 with 1 Axes>"
      ]
     },
     "metadata": {},
     "output_type": "display_data"
    }
   ],
   "source": [
    "# Tracé de la distribution de probabilité\n",
    "x = np.arange(max(0, k - (N - n)), min(k, n) + 1)\n",
    "y = hypergeom.pmf(x, M=N, n=K, N=n)\n",
    "plt.bar(x, y)\n",
    "plt.title(\"Distribution de probabilité de la loi hypergéométrique\")\n",
    "plt.xlabel(\"Nombre de succès\")\n",
    "plt.ylabel(\"Probabilité\")\n",
    "plt.show()"
   ]
  },
  {
   "cell_type": "code",
   "execution_count": 4,
   "id": "a0e20c1c",
   "metadata": {},
   "outputs": [],
   "source": [
    "# Simulation de loi Hypergéométrique\n",
    "import random\n",
    "import numpy as np"
   ]
  },
  {
   "cell_type": "code",
   "execution_count": 5,
   "id": "88c3e36c",
   "metadata": {},
   "outputs": [],
   "source": [
    "# Simule une variable aléatoire suivant une loi hypergéométrique.   \n",
    "    # n : nombre d'essais\n",
    "    # K : nombre de succès dans la population\n",
    "    # N : taille de la population\n",
    "    # num_simulations : nombre de simulations à effectuer\n",
    "    \n",
    "def hypergeometrique(n, K, N):\n",
    "    successes = 0\n",
    "    \n",
    "    # Sélectionne n éléments aléatoires de la population contenant K succès\n",
    "    population = [1] * K + [0] * (N - K)\n",
    "    for _ in range(n):\n",
    "        # Sélectionne un élément de la population\n",
    "        selected = random.choice(population)\n",
    "        \n",
    "        # Si c'est un succès, on incrémente le compteur de succès\n",
    "        if selected == 1:\n",
    "            successes += 1\n",
    "    \n",
    "    return successes"
   ]
  },
  {
   "cell_type": "code",
   "execution_count": 6,
   "id": "96c04204",
   "metadata": {},
   "outputs": [
    {
     "data": {
      "text/plain": [
       "1"
      ]
     },
     "execution_count": 6,
     "metadata": {},
     "output_type": "execute_result"
    }
   ],
   "source": [
    "# Exemple d'utilisation avec n = 10, K = 5, N = 20 et num_simulations = 10\n",
    "n = 10\n",
    "K = 5\n",
    "N = 20\n",
    "hypergeometrique(n, K, N)"
   ]
  },
  {
   "cell_type": "code",
   "execution_count": 7,
   "id": "fbc83b80",
   "metadata": {},
   "outputs": [],
   "source": [
    "# Effectuer les simulations et enregistrer le nombre d'essais pour chaque simulation\n",
    "def simulations(n, K, N,num_simulation):\n",
    "    resultats = [] # création d'une liste vide\n",
    "    for _ in range(num_simulation):\n",
    "        resultats.append(hypergeometrique(n, K, N)) # ajout des résultats de la fonction geometrique à la liste vide\n",
    "    return(resultats)  #cette fonction retourne une liste contenants les n simulations"
   ]
  },
  {
   "cell_type": "code",
   "execution_count": 8,
   "id": "c5eba374",
   "metadata": {},
   "outputs": [
    {
     "data": {
      "text/plain": [
       "[3, 4, 1, 4, 3, 3, 1, 0, 2, 3]"
      ]
     },
     "execution_count": 8,
     "metadata": {},
     "output_type": "execute_result"
    }
   ],
   "source": [
    "# Exemple d'utilisation avec n = 10, K = 5, N = 20 et num_simulations = 10\n",
    "n = 10\n",
    "K = 5\n",
    "N = 20\n",
    "num_simulations = 10\n",
    "simulations(n, K, N,num_simulations)"
   ]
  },
  {
   "cell_type": "code",
   "execution_count": 9,
   "id": "9f7233d4",
   "metadata": {},
   "outputs": [
    {
     "data": {
      "text/plain": [
       "[3, 3, 2, 4, 1, 2, 2, 4, 1, 5, 5, 4, 4, 0, 2, 6, 3, 3, 2, 3]"
      ]
     },
     "execution_count": 9,
     "metadata": {},
     "output_type": "execute_result"
    }
   ],
   "source": [
    "# Exemple d'utilisation avec n = 10, K = 5, N = 20 et num_simulations = 20\n",
    "simulations(10, 5, 20,20)"
   ]
  },
  {
   "cell_type": "code",
   "execution_count": 10,
   "id": "18ba0e53",
   "metadata": {},
   "outputs": [
    {
     "name": "stdout",
     "output_type": "stream",
     "text": [
      "Nombre moyen de succès obtenus : 2.48\n"
     ]
    }
   ],
   "source": [
    "# Calculer le nombre moyen de succès après les simulations\n",
    "moyenne = np.mean(simulations(10,5,20,100))\n",
    "print(\"Nombre moyen de succès obtenus :\", moyenne)"
   ]
  },
  {
   "cell_type": "code",
   "execution_count": null,
   "id": "29a1d55b",
   "metadata": {},
   "outputs": [],
   "source": []
  }
 ],
 "metadata": {
  "kernelspec": {
   "display_name": "Python 3 (ipykernel)",
   "language": "python",
   "name": "python3"
  },
  "language_info": {
   "codemirror_mode": {
    "name": "ipython",
    "version": 3
   },
   "file_extension": ".py",
   "mimetype": "text/x-python",
   "name": "python",
   "nbconvert_exporter": "python",
   "pygments_lexer": "ipython3",
   "version": "3.10.9"
  }
 },
 "nbformat": 4,
 "nbformat_minor": 5
}
