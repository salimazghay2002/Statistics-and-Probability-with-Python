{
 "cells": [
  {
   "cell_type": "code",
   "execution_count": 1,
   "id": "1ed11190",
   "metadata": {},
   "outputs": [],
   "source": [
    "# Manipulation de loi Géométrique\n",
    "import numpy as np\n",
    "import matplotlib.pyplot as plt\n",
    "from scipy.stats import geom"
   ]
  },
  {
   "cell_type": "code",
   "execution_count": 2,
   "id": "2dcaae3c",
   "metadata": {},
   "outputs": [
    {
     "name": "stdout",
     "output_type": "stream",
     "text": [
      "La probabilité d'obtenir le premier succès au 5-ème essai est de 0.07\n",
      "L'espérance de la loi géométrique est E(X) = 3.3333333333333335 et la variance est V(X) = 7.777777777777779\n"
     ]
    }
   ],
   "source": [
    "# Paramètre de la loi géométrique\n",
    "p = 0.3  # Probabilité de succès\n",
    "\n",
    "# Calcul de la probabilité d'obtenir le premier succès au k-ème essai\n",
    "k = 5\n",
    "prob = geom.pmf(k=k, p=p)\n",
    "print(\"La probabilité d'obtenir le premier succès au {}-ème essai est de {:.2f}\".format(k, prob))\n",
    "\n",
    "# Calcul de l'espérance et de la variance\n",
    "esperance = geom.mean(p=p)\n",
    "variance = geom.var(p=p)\n",
    "print(\"L'espérance de la loi géométrique est E(X) = {} et la variance est V(X) = {}\".format(esperance, variance))"
   ]
  },
  {
   "cell_type": "code",
   "execution_count": 3,
   "id": "4abe4280",
   "metadata": {},
   "outputs": [
    {
     "data": {
      "image/png": "[encoded data removed]",
      "text/plain": [
       "<Figure size 640x480 with 1 Axes>"
      ]
     },
     "metadata": {},
     "output_type": "display_data"
    }
   ],
   "source": [
    "# Tracé de la distribution de probabilité\n",
    "x = np.arange(1, 11)\n",
    "y = geom.pmf(x, p=p)\n",
    "plt.bar(x, y)\n",
    "plt.title(\"Distribution de probabilité de la loi géométrique\")\n",
    "plt.xlabel(\"Nombre d'essais avant le premier succès\")\n",
    "plt.ylabel(\"Probabilité\")\n",
    "plt.show()"
   ]
  },
  {
   "cell_type": "code",
   "execution_count": 4,
   "id": "2644d51f",
   "metadata": {},
   "outputs": [],
   "source": [
    "# Simulation de loi Géométrique\n",
    "import numpy as np"
   ]
  },
  {
   "cell_type": "code",
   "execution_count": 5,
   "id": "178d979f",
   "metadata": {},
   "outputs": [],
   "source": [
    "# simuler une variable aléatoitre suivant une loi géométrique avec n essais et une probabilité de succès = p\n",
    "def geometrique(n, p):\n",
    "    successes = 0\n",
    "    trials = 0\n",
    "\n",
    "    while successes < n:\n",
    "        trials += 1\n",
    "        if np.random.random() < p:\n",
    "            successes += 1\n",
    "\n",
    "    return trials"
   ]
  },
  {
   "cell_type": "code",
   "execution_count": 6,
   "id": "8b99cda7",
   "metadata": {},
   "outputs": [
    {
     "name": "stdout",
     "output_type": "stream",
     "text": [
      "Nombre d'essais avant d'obtenir 10 succès : 12\n"
     ]
    }
   ],
   "source": [
    "# Simulation de la variable aléatoire\n",
    "result = geometrique(10, 0.7)\n",
    "print(\"Nombre d'essais avant d'obtenir\", 10, \"succès :\", result)"
   ]
  },
  {
   "cell_type": "code",
   "execution_count": 7,
   "id": "09ffbf4f",
   "metadata": {},
   "outputs": [
    {
     "name": "stdout",
     "output_type": "stream",
     "text": [
      "Nombre d'essais avant d'obtenir 20 succès : 30\n"
     ]
    }
   ],
   "source": [
    "result = geometrique(20, 0.7)\n",
    "print(\"Nombre d'essais avant d'obtenir\", 20, \"succès :\", result)"
   ]
  },
  {
   "cell_type": "code",
   "execution_count": 8,
   "id": "4d9f8c9e",
   "metadata": {},
   "outputs": [],
   "source": [
    "# Effectuer les simulations et enregistrer le nombre d'essais pour chaque simulation\n",
    "def simulations(n,p,num_simulation):\n",
    "    resultats = [] # création d'une liste vide\n",
    "    for _ in range(num_simulation):\n",
    "        resultats.append(geometrique(n,p)) # ajout des résultats de la fonction geometrique à la liste vide\n",
    "    return(resultats)  #cette fonction retourne une liste contenants les n simulations"
   ]
  },
  {
   "cell_type": "code",
   "execution_count": 9,
   "id": "4aa8a5c3",
   "metadata": {},
   "outputs": [
    {
     "data": {
      "text/plain": [
       "[12, 15, 16, 16, 10, 16, 15, 14, 15, 11]"
      ]
     },
     "execution_count": 9,
     "metadata": {},
     "output_type": "execute_result"
    }
   ],
   "source": [
    "simulations(10, 0.7,10)"
   ]
  },
  {
   "cell_type": "code",
   "execution_count": 10,
   "id": "8f571838",
   "metadata": {},
   "outputs": [
    {
     "data": {
      "text/plain": [
       "[12, 15, 12, 16, 11, 11, 14, 13, 12, 15, 12, 14, 17, 16, 16]"
      ]
     },
     "execution_count": 10,
     "metadata": {},
     "output_type": "execute_result"
    }
   ],
   "source": [
    "simulations(10, 0.7,15)"
   ]
  },
  {
   "cell_type": "code",
   "execution_count": 11,
   "id": "cb8b7229",
   "metadata": {},
   "outputs": [
    {
     "name": "stdout",
     "output_type": "stream",
     "text": [
      "Nombre moyen d'essais pour obtenir 10 succès après 100 simulations : 14.22\n"
     ]
    }
   ],
   "source": [
    "# Calculer le nombre moyen de succès après les simulations\n",
    "moyenne_succes = np.mean(simulations(10,0.7,100))\n",
    "\n",
    "# Afficher le résultat\n",
    "print(\"Nombre moyen d'essais pour obtenir\", 10, \"succès après\", 100, \"simulations :\", moyenne_succes)"
   ]
  },
  {
   "cell_type": "code",
   "execution_count": 12,
   "id": "dfb019df",
   "metadata": {},
   "outputs": [
    {
     "name": "stdout",
     "output_type": "stream",
     "text": [
      "Nombre moyen d'essais pour obtenir 10 succès après 1000 simulations : 14.249\n"
     ]
    }
   ],
   "source": [
    "# Calculer le nombre moyen de succès après les simulations\n",
    "moyenne_succes = np.mean(simulations(10,0.7,1000))\n",
    "\n",
    "# Afficher le résultat\n",
    "print(\"Nombre moyen d'essais pour obtenir\", 10, \"succès après\", 1000 , \"simulations :\", moyenne_succes)"
   ]
  },
  {
   "cell_type": "code",
   "execution_count": null,
   "id": "bd463cdb",
   "metadata": {},
   "outputs": [],
   "source": []
  }
 ],
 "metadata": {
  "kernelspec": {
   "display_name": "Python 3 (ipykernel)",
   "language": "python",
   "name": "python3"
  },
  "language_info": {
   "codemirror_mode": {
    "name": "ipython",
    "version": 3
   },
   "file_extension": ".py",
   "mimetype": "text/x-python",
   "name": "python",
   "nbconvert_exporter": "python",
   "pygments_lexer": "ipython3",
   "version": "3.10.9"
  }
 },
 "nbformat": 4,
 "nbformat_minor": 5
}
