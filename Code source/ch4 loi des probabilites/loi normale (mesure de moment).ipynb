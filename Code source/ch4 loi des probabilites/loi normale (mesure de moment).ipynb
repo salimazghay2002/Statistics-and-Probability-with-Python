{
 "cells": [
  {
   "cell_type": "code",
   "execution_count": 1,
   "id": "5a90e1e2",
   "metadata": {},
   "outputs": [
    {
     "name": "stdout",
     "output_type": "stream",
     "text": [
      "Moyenne :  2.022003819912658\n",
      "Variance :  8.96384914830093\n",
      "écart-type:  2.9939687954788257\n"
     ]
    }
   ],
   "source": [
    "import numpy as np\n",
    "from scipy.stats import norm\n",
    "\n",
    "# Définition des paramètres de la distribution\n",
    "mu = 2\n",
    "sigma = 3\n",
    "\n",
    "# Génération d'un échantillon de valeurs à partir de la distribution\n",
    "x = norm.rvs(mu,sigma,1000)\n",
    "\n",
    "# Calcul des moments\n",
    "mean = np.mean(x)\n",
    "variance = np.var(x)\n",
    "écart_type= np.std(x)\n",
    "    \n",
    "# Affichage des résultats\n",
    "print(\"Moyenne : \", mean)\n",
    "print(\"Variance : \", variance)\n",
    "print(\"écart-type: \", écart_type)"
   ]
  },
  {
   "cell_type": "code",
   "execution_count": null,
   "id": "d1cf37fc",
   "metadata": {},
   "outputs": [],
   "source": []
  }
 ],
 "metadata": {
  "kernelspec": {
   "display_name": "Python 3 (ipykernel)",
   "language": "python",
   "name": "python3"
  },
  "language_info": {
   "codemirror_mode": {
    "name": "ipython",
    "version": 3
   },
   "file_extension": ".py",
   "mimetype": "text/x-python",
   "name": "python",
   "nbconvert_exporter": "python",
   "pygments_lexer": "ipython3",
   "version": "3.7.6"
  }
 },
 "nbformat": 4,
 "nbformat_minor": 5
}
