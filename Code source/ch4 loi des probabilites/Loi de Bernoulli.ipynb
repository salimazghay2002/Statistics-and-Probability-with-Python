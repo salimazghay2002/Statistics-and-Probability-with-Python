{
 "cells": [
  {
   "cell_type": "code",
   "execution_count": 1,
   "id": "86616564",
   "metadata": {},
   "outputs": [],
   "source": [
    "# Manipulation de loi de Bernoulli\n",
    "import numpy as np\n",
    "import matplotlib.pyplot as plt\n",
    "from scipy.stats import bernoulli"
   ]
  },
  {
   "cell_type": "code",
   "execution_count": 2,
   "id": "fc92636c",
   "metadata": {},
   "outputs": [
    {
     "name": "stdout",
     "output_type": "stream",
     "text": [
      "La probabilité d'obtenir un succès est de 0.30\n",
      "L'espérance de la loi Bernoulli est E(X) = 0.3 et la variance est V(X) = 0.21\n"
     ]
    }
   ],
   "source": [
    "# Paramètre de la loi Bernoulli\n",
    "p = 0.3  # Probabilité de succès\n",
    "\n",
    "# Calcul de la probabilité d'obtenir un succès\n",
    "prob = bernoulli.pmf(k=1, p=p)\n",
    "print(\"La probabilité d'obtenir un succès est de {:.2f}\".format(prob))\n",
    "\n",
    "# Calcul de l'espérance et de la variance\n",
    "esperance = bernoulli.mean(p=p)\n",
    "variance = bernoulli.var(p=p)\n",
    "print(\"L'espérance de la loi Bernoulli est E(X) = {} et la variance est V(X) = {}\".format(esperance, variance))"
   ]
  },
  {
   "cell_type": "code",
   "execution_count": 3,
   "id": "7ea16bb7",
   "metadata": {},
   "outputs": [
    {
     "data": {
      "image/png": "[encoded data removed]",
      "text/plain": [
       "<Figure size 640x480 with 1 Axes>"
      ]
     },
     "metadata": {},
     "output_type": "display_data"
    }
   ],
   "source": [
    "# Tracé de la distribution de probabilité\n",
    "x = [0, 1]\n",
    "y = bernoulli.pmf(x, p=p)\n",
    "plt.bar(x, y)\n",
    "plt.title(\"Distribution de probabilité de la loi Bernoulli\")\n",
    "plt.xlabel(\"Valeur\")\n",
    "plt.ylabel(\"Probabilité\")\n",
    "plt.xticks(x, ['Échec', 'Succès'])\n",
    "plt.show()"
   ]
  },
  {
   "cell_type": "code",
   "execution_count": 4,
   "id": "3994ba2d",
   "metadata": {},
   "outputs": [],
   "source": [
    "# Simulation de loi de Bernoulli avec Python\n",
    "import random"
   ]
  },
  {
   "cell_type": "code",
   "execution_count": 5,
   "id": "2def8ec9",
   "metadata": {},
   "outputs": [],
   "source": [
    "# simuler une variable aléatoire suivant une loi de Bernouli de paramètre p\n",
    "def bernouli(p):\n",
    "    r = random.random()  \n",
    "    if r<p:\n",
    "        return 1 # succès\n",
    "    else :\n",
    "        return 0 # échec"
   ]
  },
  {
   "cell_type": "code",
   "execution_count": 6,
   "id": "5dd47b09",
   "metadata": {},
   "outputs": [
    {
     "data": {
      "text/plain": [
       "0"
      ]
     },
     "execution_count": 6,
     "metadata": {},
     "output_type": "execute_result"
    }
   ],
   "source": [
    "bernouli(0.4) #simuler une variable aléatoitre suivant une loi de Bernouli de paramètre p=0,4"
   ]
  },
  {
   "cell_type": "code",
   "execution_count": 7,
   "id": "3fb1ce8d",
   "metadata": {},
   "outputs": [],
   "source": [
    "# nombre de simulation = n\n",
    "def simulations(p,n):\n",
    "    resultats = [] # création d'une liste vide\n",
    "    for _ in range(n):\n",
    "        resultats.append(bernouli(p)) # ajout des résultats de la fonction bernouli à la liste vide\n",
    "    return(resultats)  #cette fonction retourne une liste contenants les n simulations"
   ]
  },
  {
   "cell_type": "code",
   "execution_count": 8,
   "id": "a127009e",
   "metadata": {
    "scrolled": true
   },
   "outputs": [
    {
     "data": {
      "text/plain": [
       "[1, 0, 1, 1, 0, 1, 0, 1, 1, 0, 0, 1, 0, 1, 0, 0, 0, 1, 0, 0]"
      ]
     },
     "execution_count": 8,
     "metadata": {},
     "output_type": "execute_result"
    }
   ],
   "source": [
    "simulations(0.4,20) #liste contenant les résultats de 20 simulations"
   ]
  },
  {
   "cell_type": "code",
   "execution_count": 9,
   "id": "eb1c8fd2",
   "metadata": {},
   "outputs": [
    {
     "data": {
      "text/plain": [
       "[1, 0, 0, 0, 0, 1, 0, 1, 1, 0, 0, 1, 1, 0, 0, 0, 1, 0, 1, 1, 0, 0, 0, 0, 1]"
      ]
     },
     "execution_count": 9,
     "metadata": {},
     "output_type": "execute_result"
    }
   ],
   "source": [
    "simulations(0.4,25) #liste contenant les résultats de 25 simulations"
   ]
  },
  {
   "cell_type": "code",
   "execution_count": 10,
   "id": "beae101f",
   "metadata": {},
   "outputs": [],
   "source": [
    "# Calcul de la fréquence du succès après n simulations\n",
    "def freq_succes(p,n):\n",
    "    return sum(simulations(p,n))/n # le nombre de succès est égal à la somme des éléments de la liste"
   ]
  },
  {
   "cell_type": "code",
   "execution_count": 11,
   "id": "74a025a7",
   "metadata": {},
   "outputs": [
    {
     "data": {
      "text/plain": [
       "0.44"
      ]
     },
     "execution_count": 11,
     "metadata": {},
     "output_type": "execute_result"
    }
   ],
   "source": [
    "freq_succes(0.4,100) # fréquence du succès après 100 simulations"
   ]
  },
  {
   "cell_type": "code",
   "execution_count": 12,
   "id": "96e907a0",
   "metadata": {},
   "outputs": [
    {
     "data": {
      "text/plain": [
       "0.40335"
      ]
     },
     "execution_count": 12,
     "metadata": {},
     "output_type": "execute_result"
    }
   ],
   "source": [
    "freq_succes(0.4,100000) # fréquence du succès après 100000 simulations"
   ]
  },
  {
   "cell_type": "code",
   "execution_count": 13,
   "id": "63f91620",
   "metadata": {},
   "outputs": [
    {
     "data": {
      "text/plain": [
       "0.400364"
      ]
     },
     "execution_count": 13,
     "metadata": {},
     "output_type": "execute_result"
    }
   ],
   "source": [
    "freq_succes(0.4,1000000) # fréquence du succès après 1000000 simulations"
   ]
  },
  {
   "cell_type": "code",
   "execution_count": null,
   "id": "2c63eb59",
   "metadata": {},
   "outputs": [],
   "source": []
  }
 ],
 "metadata": {
  "kernelspec": {
   "display_name": "Python 3 (ipykernel)",
   "language": "python",
   "name": "python3"
  },
  "language_info": {
   "codemirror_mode": {
    "name": "ipython",
    "version": 3
   },
   "file_extension": ".py",
   "mimetype": "text/x-python",
   "name": "python",
   "nbconvert_exporter": "python",
   "pygments_lexer": "ipython3",
   "version": "3.10.9"
  }
 },
 "nbformat": 4,
 "nbformat_minor": 5
}
