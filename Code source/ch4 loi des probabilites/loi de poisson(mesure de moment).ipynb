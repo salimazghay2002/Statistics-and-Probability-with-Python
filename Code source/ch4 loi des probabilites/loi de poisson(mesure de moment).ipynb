{
 "cells": [
  {
   "cell_type": "code",
   "execution_count": 1,
   "id": "ccf4bce4",
   "metadata": {},
   "outputs": [
    {
     "name": "stdout",
     "output_type": "stream",
     "text": [
      "Espérance: 4.9915\n",
      "Variance: 4.85987631\n"
     ]
    }
   ],
   "source": [
    "import numpy as np\n",
    "\n",
    "lam = 5  # paramètre lambda\n",
    "\n",
    "# Calcul de l'espérance\n",
    "esp = np.mean(np.random.poisson(lam, 10000))\n",
    "print(\"Espérance:\", esp)\n",
    "\n",
    "# Calcul de la variance\n",
    "var = np.var(np.random.poisson(lam, 10000))\n",
    "print(\"Variance:\", var)"
   ]
  },
  {
   "cell_type": "code",
   "execution_count": 2,
   "id": "47dcf860",
   "metadata": {},
   "outputs": [
    {
     "name": "stdout",
     "output_type": "stream",
     "text": [
      "Coefficient d'asymétrie:  0.7071067811865476\n",
      "Coefficient d'aplatissement:  0.5\n"
     ]
    }
   ],
   "source": [
    "from scipy.stats import poisson\n",
    "\n",
    "# Paramètre lambda\n",
    "lambda_poisson = 2\n",
    "\n",
    "# Calcul le coefficient d'asymétrie\n",
    "asymmetry = poisson.stats(lambda_poisson, moments='s')\n",
    "\n",
    "# Calcul le coefficient d'aplatissement\n",
    "kurtosis = poisson.stats(lambda_poisson, moments='k')\n",
    "\n",
    "print(\"Coefficient d'asymétrie: \", asymmetry)\n",
    "print(\"Coefficient d'aplatissement: \", kurtosis)"
   ]
  }
 ],
 "metadata": {
  "kernelspec": {
   "display_name": "Python 3 (ipykernel)",
   "language": "python",
   "name": "python3"
  },
  "language_info": {
   "codemirror_mode": {
    "name": "ipython",
    "version": 3
   },
   "file_extension": ".py",
   "mimetype": "text/x-python",
   "name": "python",
   "nbconvert_exporter": "python",
   "pygments_lexer": "ipython3",
   "version": "3.10.9"
  }
 },
 "nbformat": 4,
 "nbformat_minor": 5
}
